{
 "cells": [
  {
   "cell_type": "markdown",
   "metadata": {},
   "source": [
    "# 연습 4 : 회로 분해\n",
    "와! 처음 세 가지 연습을 해결했다면, 축하합니다! 네 번째 문제는 양자 전문가조차도 당황하게 하므로 해결할 수 없더라도 걱정하지 마십시오. 만일 해결해낸다면 당신은 대단한 일을 해낸 겁니다!\n",
    "\n",
    "양자 역학 코스에서 양자 이론이 유니터리(Unitary)이라는 것을 기억할 것입니다. 따라서, (닫힌) 시스템의 변화는 유니터리 행렬로 설명 될 수 있습니다. 그러나 임의의 유니터리 행렬이 주어지면 이를 실제로 당신의 양자 컴퓨터에서 구현할 수 있습니까?\n",
    "\n",
    "**\"임의의 양자 데이터의 유니터리 변환이 어떤 양자 게이트 집합 내 게이트들의 배열로 효율적으로 근사될 수 있는 경우 그 양자 게이트의 집합이 보편적(Universal)이라고한다.\"** (https://qiskit.org/textbook/ch-algorithms/defining-quantum-circuits.html)\n",
    "\n",
    "IBM Quantum Experience에서 실행하는 모든 게이트는 단일 큐빗 회전 및 CNOT (CX) 게이트로 변환됩니다. 우리는 이것들이 보편 게이트 세트를 구성한다는 것을 알고 있습니다. 이는 모든 게이트가 이러한 게이트만 사용하여 구현 될 수 있음을 의미합니다. 그러나 일반적으로 임의의 단일에 대한 좋은 분해(decomposition)를 찾기는 쉽지 않습니다. 당신의 임무는 그러한 분해를 찾는 것입니다.\n",
    "\n",
    "다음과 같은 유니터리 행렬이 주어져 있습니다."
   ]
  },
  {
   "cell_type": "code",
   "execution_count": null,
   "metadata": {
    "scrolled": false
   },
   "outputs": [],
   "source": [
    "from may4_challenge.ex4 import get_unitary\n",
    "U = get_unitary()\n",
    "# print(U)\n",
    "print(\"U has shape\", U.shape)"
   ]
  },
  {
   "cell_type": "markdown",
   "metadata": {},
   "source": [
    "#### 이러한 복잡한 유니터리 행렬을 만드는 회로는 무엇입니까?\n",
    "\n",
    "대칭이 있습니까, 아니면 무작위입니까? 우리는 최근 Qiskit에 양자 회로 라이브러리 (https://github.com/Qiskit/qiskit-terra/tree/master/qiskit/circuit/library)를 도입하여 업데이트했습니다. 이 라이브러리는 사용자가 벤치 마크 (양자 부피, Quantum Volume), 복잡한 회로 (가산기) 구축의 빌딩 블록 또는 고전 계산에 대한 양자 계산우월성을 탐색하기위한 도구로(순간 양자 다항식 복잡성 회로) 사용될 수있는 잘 연구 된 회로군의 다양한 집합에 접근 할 수 있도록합니다."
   ]
  },
  {
   "cell_type": "code",
   "execution_count": null,
   "metadata": {},
   "outputs": [],
   "source": [
    "from qiskit import QuantumCircuit\n",
    "from may4_challenge.ex4 import check_circuit, submit_circuit"
   ]
  },
  {
   "cell_type": "markdown",
   "metadata": {},
   "source": [
    "**단일 큐빗 회전과 CNOT 게이트만을 사용해서, 유니터리 행렬 $U$를 근사하는 양자회로 ($V$)를 찾아내세요! 최대 에러는 $\\varepsilon = 0.01$로 $\\lVert U - V\\rVert_2 \\leq \\varepsilon$을 만족해야 합니다.**\n",
    "\n",
    "여기서 사용하는 크기(norm)은 스펙트럼 크기로 다음과 같이 구해집니다: $\\qquad \\lVert A \\rVert_2 = \\max_{\\lVert \\psi \\rVert_2= 1} \\lVert A \\psi \\rVert$.\n",
    "\n",
    "이 크기는 매트릭스 $A$가 임의 초기 (정규화된) 상태 $\\psi$에 대해 갖는 가장 큰 스케일 계수로 볼 수 있습니다. 이 크기가 $A$의 가장 큰 특이 값, 즉 $A^\\dagger A$ 매트릭스의 가장 큰 고유값의 제곱근에 해당함이 증명 가능합니다. 이때 $A^\\dagger$는 A의 켤레 전치 (conjugate transpose) 입니다.\n",
    "\n",
    "**여러분이 회로를 제출하면 스펙트럼 표준을 사용하여 $ U $와 비교하기 전에 해당 유니터리 행렬 $ V $의 전역 위상(global phase)을 제거합니다. 예를 들어 여러분이 $ V = \\ text{e}^{i \\theta} U $를 생성하는 회로를 제출하면 우리가 $ V $에서 글로벌 위상 $\\text{e}^{i\\theta}$를 제거한 뒤 표준을 계산하고 여러분은 문제 제출에 성공하게 됩니다. 결과적으로 전역 위상을 일치시키는 것에 대해 여러분은 걱정할 필요가 없습니다. **\n",
    "\n",
    "단일 큐빗 게이트는 2 큐빗 게이트 보다 훨씬 높은 충실도를 보여주기 때문에 우리는 CNOT 게이트의 수 $n_{cx}$와 u3 게이트의 수 $n_{u3}$에 대하여 여러분의 분해된 회로 비용을 다음과 같이 계산 할 것입니다.\n",
    "\n",
    "$$\n",
    "\\qquad \\text{cost} = 10 \\cdot n_{cx} + n_{u3}\n",
    "$$\n",
    "\n",
    "여러분의 분해된 회로 비용을 최적화하십시오.\n",
    "\n",
    "**여러분의 회로가 $ u3 $ 및 $ cx $ 게이트로만 구성되어 있도록 해야 합니다. 비용이 1600보다 작은 경우 문제가 올바르게 해결 된 것으로 간주됩니다.**\n",
    "\n",
    "---\n",
    "이 연습을 완료하는 데 유용한 팁과 다른 참가자와의 의사 소통 및 질문에 대한 지침은 다음 [저장소] (https://github.com/qiskit-community/may4_challenge_exercises)를 참조하십시오. 또한이 연습의 사본을 찾을 수 있으므로이 노트북을 자유롭게 편집하고 실험 해보십시오.\n",
    "\n",
    "---"
   ]
  },
  {
   "cell_type": "code",
   "execution_count": null,
   "metadata": {},
   "outputs": [],
   "source": [
    "##### build your quantum circuit here\n",
    "qc = QuantumCircuit(4)\n",
    "# apply operations to your quantum circuit here"
   ]
  },
  {
   "cell_type": "code",
   "execution_count": null,
   "metadata": {},
   "outputs": [],
   "source": [
    "##### check your quantum circuit by running the next line\n",
    "check_circuit(qc)"
   ]
  },
  {
   "cell_type": "markdown",
   "metadata": {},
   "source": [
    "여러분의 회로가 유효한지 `check_circuit(qc)`로 확인하실 수 있습니다. 유효한 해답을 찾았다면 아래 cell을 실행해서 (`submit_circuit`앞의 `#`을 지우세요) 제출해주세요. 언제든지 다시 제출할 수 있습니다."
   ]
  },
  {
   "cell_type": "code",
   "execution_count": null,
   "metadata": {},
   "outputs": [],
   "source": [
    "# Send the circuit as the final answer, can re-submit at any time\n",
    "#submit_circuit(qc) "
   ]
  }
 ],
 "metadata": {
  "kernelspec": {
   "display_name": "Python 3",
   "language": "python",
   "name": "python3"
  },
  "language_info": {
   "codemirror_mode": {
    "name": "ipython",
    "version": 3
   },
   "file_extension": ".py",
   "mimetype": "text/x-python",
   "name": "python",
   "nbconvert_exporter": "python",
   "pygments_lexer": "ipython3",
   "version": "3.7.3"
  }
 },
 "nbformat": 4,
 "nbformat_minor": 4
}
