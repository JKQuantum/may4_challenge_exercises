{
 "cells": [
  {
   "cell_type": "markdown",
   "metadata": {},
   "source": [
    "# Qiskit 소개\n",
    "Quantum Challenge에 오신 것을 환영합니다! 여기서는 IBM Quantum 및 전세계 커뮤니티 구성원이 개발한 오픈소스 양자소프트웨어 개발키트인 Qiskit을 사용합니다. 다음 연습은 Qiskit 및 양자 회로의 기본 요소를 익힙니다.\n",
    "\n",
    "먼저 양자 회로가 무엇인지 정의 해 봅시다.\n",
    "\n",
    "> **\"양자 회로는 큐비트와 같은 양자 데이터에 대한 결맞은 양자 연산으로 구성된 계산 루틴입니다. 이는 양자 게이트, 측정 및 리셋의 순서화 된 시퀀스이며, 이는 실시간 고전 계산의 도움으로 조절될 수 있습니다.\"** (https://qiskit.org/textbook/ch-algorithms/defining-quantum-circuits.html)\n",
    "\n",
    "양자물리학자들에게는 명확할 수 있는 이 설명이 당신에게 잘 이해가 되지 않더라도 걱정하지 마십시오. 이 연습에서는 큐비트가 무엇인지, 양자 게이트를 적용하는 방법 및 최종 상태를 측정하는 방법을 배우게됩니다. 그러면 자신 만의 양자 회로를 만들 수 있습니다! 최종적으로는 당신은 양자 회로의 기초를 동료들에게 설명 할 수 있을 것입니다.\n",
    "\n",
    "연습을 시작하기 전에 아래의 셀 *Cell 1* 을 클릭하고 'shift'+ 'enter'를 눌러 실행하십시오. 이것이 현재 사용중인 Jupyter 노트북 환경에서 코드 셀을 실행하는 일반적인 방법입니다. 실행되는 동안 해당 셀의 왼쪽 상단에`In [*] :`가 표시됩니다. 실행이 끝나면 별 대신 숫자가 표시되는데,이 숫자는 실행 한 셀 수를 나타냅니다. Jupyter 노트북에 대한 자세한 내용은 https://qiskit.org/textbook/ch-prerequisites/python-and-jupyter-notebooks.html에서 확인할 수 있습니다.\n",
    "\n",
    "---\n",
    "이 연습을 완료하는 데 유용한 팁과 다른 참가자와의 의사 소통 및 질문에 대한 지침은 다음 [저장소] (https://github.com/qiskit-community/may4_challenge_exercises)를 참조하십시오. 또한 이 연습의 사본을 찾을 수 있으므로이 노트북을 자유롭게 편집하고 실험 해보십시오.\n",
    "\n",
    "---"
   ]
  },
  {
   "cell_type": "code",
   "execution_count": null,
   "metadata": {},
   "outputs": [],
   "source": [
    "# Cell 1\n",
    "import numpy as np\n",
    "\n",
    "from qiskit import Aer, QuantumCircuit, execute\n",
    "from qiskit.visualization import plot_histogram\n",
    "from IPython.display import display, Math, Latex\n",
    "\n",
    "from may4_challenge import plot_state_qsphere\n",
    "from may4_challenge.ex1 import minicomposer\n",
    "from may4_challenge.ex1 import check1, check2, check3, check4, check5, check6, check7, check8\n",
    "from may4_challenge.ex1 import return_state, vec_in_braket, statevec"
   ]
  },
  {
   "cell_type": "markdown",
   "metadata": {},
   "source": [
    "# 연습 I : 큐 비트 및 측정을위한 기본 작업\n",
    "\n",
    "### 단일 큐빗 상태 쓰기\n",
    "\n",
    "단일 큐빗을 살펴보면서 시작하겠습니다. 0과 1의 값만 사용할 수 있는 고전 비트와의 주요 차이점은 양자 비트 또는 **큐비트**가 $ \\vert0 \\rangle $, $ \\vert1 \\rangle $, 그리고 이 두 상태의 선형 조합일 수 있다는 것입니다. 이 특성을 중첩이라고하며 가장 일반적인 큐빗 상태는 다음과 같이 쓸 수 있습니다:\n",
    "\n",
    "$$\\vert\\psi\\rangle = \\sqrt{1-p}\\vert0\\rangle + e^{i \\phi} \\sqrt{p}  \\vert1\\rangle$$\n",
    "\n",
    "이 큐빗의 상태를 측정한다면 확률 $p$로 결과 $1$과 확률 $1-p$로 결과 $0$를 얻을수 있습니다. 보시다시피, 총 확률은 $1$입니다. 이는 우리는 결국 $0$ 또는 $1$를 측정하게 되고 그 외의 다른 결과는 존재하지 않음을 의미합니다.\n",
    "\n",
    "\n",
    "위의 식에서 $p$ 외에도 다른 변수를 발견했을 것입니다. 변수 $\\phi$는 두 상태 $ \\vert0 \\rangle $와 $ \\vert1 \\rangle $ 사이의 상대 양자 위상을 나타냅니다. 나중에 알 수 있듯이이 상대 위상은 매우 중요합니다. 일단은 양자 위상이 양자 상태 사이의 간섭을 가능하게 하므로 특정 작업을 해결하기 위한 양자 알고리즘을 작성할 수 있다는 점을 기억해두면 충분합니다.\n",
    "\n",
    "자세한 내용을 알아 보려면 [단일 큐빗 상태 표현에 대한 Qiskit 교재의 섹션] (https://qiskit.org/textbook/ch-states/representing-qubit-states.html)을 참조하십시오. .\n",
    "\n",
    "### 양자 상태의 시각화\n",
    "\n",
    "우리는 'qsphere'라고 알려진 것을 사용하여 이 연습 전반에 걸쳐 양자 상태를 시각화합니다. `qsphere`가 각각 $ \\vert0 \\rangle $ 및 $ \\vert1 \\rangle $ 상태를 찾는 방법은 다음과 같습니다. 구의 최상위 부분은 $ \\vert0 \\rangle $ 상태를 나타내고 아래쪽은 $ \\vert1 \\rangle $를 나타냅니다.\n",
    "\n",
    "<img src=\"qsphere01.png\" alt=\"qsphere with states 0 and 1\" style=\"width: 400px;\"/>\n",
    "\n",
    "양자 위상이 $ \\phi = 0 $이고 확률 $p = 1 / 2 $ (0과 1을 측정 할 가능성이 모두 있음)를 갖는 중첩 상태가 두 점으로 'qsphere'에 나타나는 것은 놀라운 일이 아닙니다. 그러나 두 점의 원 크기는 단순히 위의 $ \\vert0 \\rangle $ 및 $ \\vert1 \\rangle $보다 작을 때보 다 작습니다. 이는 원의 크기가 각각을 측정 할 확률에 비례하기 때문에 이제 절반으로 줄어 듭니다.\n",
    "\n",
    "<img src=\"qsphereplus.png\" alt=\"qsphere with superposition 1\" style=\"width: 200px;\"/>\n",
    "\n",
    "양자 위상이 0이 아닌 중첩 상태의 경우, qsphere는 각 원의 색상을 변경하여 해당 위상을 시각화 할 수 있습니다. 예를 들어, $ \\phi = 90^\\circ $ (degrees) 및 $ p = 1 / 2 $ 인 상태는 아래의`qsphere`에 표시됩니다.\n",
    "\n",
    "<img src=\"qspherey.png\" alt=\"qsphere with superposition 2\" style=\"width: 200px;\"/>\n",
    "\n",
    "### 큐빗 조작\n",
    "\n",
    "큐빗은 양자 게이트를 적용하여 조작됩니다. 다음 연습에서 우리가 배울 여러 게이트에 대한 개요를 살펴 보겠습니다.\n",
    "\n",
    "먼저, 일반적인 양자 상태의 $ p $ 값을 어떻게 바꿀 수 있는지 설명하겠습니다. 이를 위해 두 개의 게이트를 사용합니다.\n",
    "\n",
    "1. **$X$-gate** :이 게이트는 $ \\vert0 \\rangle $과 $ \\vert1 \\rangle $의 두 상태 사이를 전환합니다. 이 작업은 기존 NOT 게이트와 동일합니다. 결과적으로 $X$-gate는 때때로 비트 플립 또는 NOT 게이트라고합니다. 수학적으로 $ X $ 게이트는 $ p $에서 $ 1-p $로, 특히 0에서 1로, 그 반대로 변경됩니다.\n",
    "\n",
    "2. **$H$-gate** :이 게이트를 사용하면 $ \\vert0 \\rangle $ 상태에서 $ \\frac{1}{\\sqrt{2}} \\left(\\vert0 \\rangle+ \\vert1 \\rangle \\right)$ 상태로 이동할 수 있습니다. 이 상태는 $ \\vert + \\rangle $라고도합니다. 수학적으로 이것은 $ p = 0, \\phi = 0 $에서 $ p = 1 / 2, \\phi = 0 $로 바뀌는 것을 의미합니다. 큐빗의 최종 상태는 $ \\vert0 \\rangle $ 및 $ \\vert1 \\rangle $의 중첩이므로, 하다마드 (Hadamard) 게이트는 진정한 양자 연산을 나타냅니다.\n",
    "\n",
    "두 게이트 모두 $ p $의 값을 변경했지만 $ \\phi $는 변경하지 않았습니다. 다행히도 아래 그림을 보면 이 게이트들의 동작을 시각화하는 것이 매우 쉽습니다.\n",
    "\n",
    "<img src=\"quantumgates.png\" alt=\"quantum gates\" style=\"width: 400px;\"/>\n",
    "\n",
    "$ \\vert + \\rangle $ 상태가 되면 다른 게이트를 적용하여 양자 위상을 변경할 수 있습니다. 예를 들어 $ S $ 게이트는 $ \\phi $에 $ 90 $ 도의 위상을 추가하는 반면 $ Z $ 게이트는 $ \\phi $에 $ 180 $ 도의 위상을 추가합니다. $ 90 $의 위상을 빼기 위해 S-dagger로 읽히고 일반적으로`sdg`로 쓰인 $ S^\\dagger $ 게이트를 적용 할 수 있습니다. 마지막으로 $ Z $ 및 $ X $ 게이트 시퀀스를 적용하는 $ Y $ 게이트가 있습니다.\n",
    "\n",
    "게이트 $ X $, $ Y $, $ Z $, $ H $, $ S $ 및 $ S^\\dagger $를 실험하여 다른 작업에 익숙해지고 이들이 q 상태에 어떻게 영향을 미치는지 알아볼 수 있습니다. 이를 위해 회로 위젯을 시작하는 *Cell 2*를 실행할 수 있습니다. 셀을 실행 한 후 큐빗에 적용 할 게이트를 선택한 다음 큐빗를 선택하십시오 (첫 번째 예에서는 큐빗 0 만 선택). 해당 상태가 어떻게 바뀌는 지보십시오."
   ]
  },
  {
   "cell_type": "code",
   "execution_count": null,
   "metadata": {},
   "outputs": [],
   "source": [
    "# Cell 2\n",
    "# shift + return 을 눌러서 이 코드 셀을 실행하세요.\n",
    "# 그 다음, 수행하고 싶은 게이트를 클릭하세요.\n",
    "# 게이트를 수행할 큐빗을 골라주세요. 여기서는 '0'을 고르면 됩니다.\n",
    "# clear를 눌러서 재시작하세요.\n",
    "minicomposer(1, dirac=True, qsphere=True)"
   ]
  },
  {
   "cell_type": "markdown",
   "metadata": {},
   "source": [
    "다음은 qsphere에서 여러 상태를 얻기위한 4가지 작은 연습입니다. 위의 위젯으로 문제를 해결하고 각 셀에 제공하는 코드를 복사하여 양자 회로를 작성하거나 다음 코드 라인의 조합을 프로그램에 직접 삽입하여 다른 게이트를 적용 할 수 있습니다.\n",
    "\n",
    "\n",
    "    qc.x (0) # 비트 반전\n",
    "    qc.y (0) # 비트 및 위상 반전\n",
    "    qc.z (0) # 위상 반전\n",
    "    qc.h (0) # 양자중첩\n",
    "    qc.s (0) # 양자 위상의 pi/2 (90도) 회전\n",
    "    qc.sdg (0) # 양자 위상의 -pi/2 (90도) 회전\n",
    "    \n",
    "'(0)'은 이 게이트를 첫 번째(이 경우에만) 큐빗인 큐빗 'q0' 에 적용 함을 나타냅니다.\n",
    "\n",
    "다음 각 연습에서 qsphere에서 주어진 상태에 도달하십시오.\n",
    "\n",
    "### I.i) 비트 반전부터 시작해봅시다. 목표는 $ \\vert0 \\rangle $ 상태에서 시작하여 $ \\vert1 \\rangle $ 상태에 도달하는 것입니다. \n",
    " <img src=\"state1.png\" width=\"300\"> \n",
    "\n",
    "\n",
    "위젯으로 원하는 상태에 도달 한 경우 *Cell 2*의 코드를 *Cell 3* (\"FILL YOUR CODE IN HERE\"이라고 표시됨)에 복사하여 붙여넣고 실행하여 솔루션을 확인하십시오."
   ]
  },
  {
   "cell_type": "code",
   "execution_count": null,
   "metadata": {},
   "outputs": [],
   "source": [
    "# Cell 3\n",
    "def create_circuit():\n",
    "    qc = QuantumCircuit(1)\n",
    "    #\n",
    "    #\n",
    "    # FILL YOUR CODE IN HERE\n",
    "    #\n",
    "    #\n",
    "    return qc\n",
    "\n",
    "# check solution\n",
    "qc = create_circuit()\n",
    "state = statevec(qc)\n",
    "check1(state)\n",
    "plot_state_qsphere(state.data, show_state_labels=True, show_state_angles=True) "
   ]
  },
  {
   "cell_type": "markdown",
   "metadata": {},
   "source": [
    "### I.ii) 다음으로 중첩을 만들어 봅시다. 목표는 $ | + \\rangle = \\frac{1}{\\sqrt{2}} \\left(|0 \\rangle + | 1 \\rangle \\right) $ 상태에 도달하는 것입니다. \n",
    "\n",
    "<img src = \"stateplus.png\" width = \"300\">\n",
    "\n",
    "*Cell 4*에 표시된 행에 코드를 채우십시오. 위젯을 선호하는 경우에도 위젯이 *Cell 2*에 제공 한 코드를 복사하여 *Cell 4*에 붙여 넣을 수 있습니다."
   ]
  },
  {
   "cell_type": "code",
   "execution_count": null,
   "metadata": {},
   "outputs": [],
   "source": [
    "# Cell 4\n",
    "def create_circuit2():\n",
    "    qc = QuantumCircuit(1)\n",
    "    #\n",
    "    #\n",
    "    # FILL YOUR CODE IN HERE\n",
    "    #\n",
    "    #\n",
    "    return qc\n",
    "\n",
    "qc = create_circuit2()\n",
    "state = statevec(qc)\n",
    "check2(state)\n",
    "plot_state_qsphere(state.data, show_state_labels=True, show_state_angles=True) "
   ]
  },
  {
   "cell_type": "markdown",
   "metadata": {},
   "source": [
    "### I.iii)이 두 가지를 결합 해 봅시다. 목표는 $ |-\\rangle = \\frac{1}{\\sqrt{2}} \\left (| 0 \\rangle-| 1 \\rangle \\right) $ 상태에 도달하는 것입니다. <img src = \"stateminus.png\" width = \"300\">\n",
    "위의 두 가지 작업을 결합하여 정답을 찾을 수 있습니까?"
   ]
  },
  {
   "cell_type": "code",
   "execution_count": null,
   "metadata": {},
   "outputs": [],
   "source": [
    "# Cell 5\n",
    "def create_circuit3():\n",
    "    qc = QuantumCircuit(1)\n",
    "    #\n",
    "    #\n",
    "    # FILL YOUR CODE IN HERE\n",
    "    #\n",
    "    #\n",
    "    return qc\n",
    "\n",
    "qc = create_circuit3()\n",
    "state = statevec(qc)\n",
    "check3(state)\n",
    "plot_state_qsphere(state.data, show_state_labels=True, show_state_angles=True) "
   ]
  },
  {
   "cell_type": "markdown",
   "metadata": {},
   "source": [
    "### I.iv) 마지막으로 복소수로 넘어갑니다. 목표는 $|\\circlearrowleft\\rangle = \\frac{1}{\\sqrt{2}}\\left(|0\\rangle - i|1\\rangle\\right)$ 상태에 도달하는 것입니다. <img src = \"stateleft.png\" width = \"300\">"
   ]
  },
  {
   "cell_type": "code",
   "execution_count": null,
   "metadata": {},
   "outputs": [],
   "source": [
    "# Cell 6\n",
    "def create_circuit4():\n",
    "    qc = QuantumCircuit(1)\n",
    "    #\n",
    "    #\n",
    "    # FILL YOUR CODE IN HERE\n",
    "    #\n",
    "    #\n",
    "    return qc\n",
    "\n",
    "qc = create_circuit4()\n",
    "state = statevec(qc)\n",
    "check4(state)\n",
    "plot_state_qsphere(state.data, show_state_labels=True, show_state_angles=True) "
   ]
  },
  {
   "cell_type": "markdown",
   "metadata": {},
   "source": [
    "## 연습 II : 다중 큐빗 게이트를 사용한 양자 회로\n",
    "\n",
    "잘 하셨습니다! 단일 큐빗 게이트를 이해 했으므로 이제 여러 큐빗에서 작동하는 게이트를 살펴 보겠습니다. 두 큐빗의 기본 게이트는\n",
    "\n",
    "    qc.cx (c, t)     # 제어 큐 비트 c 및 대상 큐 비트 t가있는 제어 X (= CNOT) 게이트\n",
    "    qc.cz (c, t)     # 제어 큐 비트 c 및 대상 큐 비트 t가있는 제어 -Z 게이트\n",
    "    qc.swap (a, b)   # qubit a와 qubit b의 상태를 바꾸는 SWAP 게이트\n",
    "\n",
    "다른 다중 큐빗 게이트와 그 관계에 대한 자세한 내용을 보려면 다음 교과서 2 장을 방문하십시오: https://qiskit.org/textbook/ch-gates/introduction.html.\n",
    "\n",
    "이전과 같이 아래의 2 큐빗 회로 위젯을 사용하여 서로 다른 게이트를 적용 할 때 결합된 2 큐빗 상태가 어떻게 변화하는지 확인하고 (*Cell 7* 실행) 복사/붙여넣기할 수 있는 해당 게이트 코드를 얻을 수 있습니다. 두 큐빗의 일반 상태는 $a|00\\rangle + b |01\\rangle + c |10\\rangle + d|11\\rangle$입니다. 여기서 $ a $, $ b $, $ c $ , $ d $는 절대 값의 제곱이 각 상태를 측정 할 확률을 갖는 복소수입니다. 예를 들어 $|a|^2$는 두 큐빗의 최종 상태가 모두'0'이 될 확률입니다. 이는 이제 qsphere에서 최대 4 개의 포인트를 가질 수 있음을 의미합니다."
   ]
  },
  {
   "cell_type": "code",
   "execution_count": null,
   "metadata": {},
   "outputs": [],
   "source": [
    "# Cell 7\n",
    "# press shift + return to run this code cell\n",
    "# then, click on the gate that you want to apply followed by the qubit(s) that you want it to apply to\n",
    "# for controlled gates, the first qubit you choose is the control qubit and the second one the target qubit\n",
    "# click on clear to restart\n",
    "\n",
    "minicomposer(2, dirac = True, qsphere = True)"
   ]
  },
  {
   "cell_type": "markdown",
   "metadata": {},
   "source": [
    "우리는 표준 2 큐빗 게이트인 제어된-NOT (Controlled-NOT=CNOT 또는 CX) 게이트로 시작합니다. 여기서, 모든 제어된 2 큐빗 게이트와 마찬가지로, 하나의 큐빗는 \"제어\"로 표시되고 다른 하나는 \"대상\"라고 합니다. 제어 큐빗이 $ | 0 \\rangle $ 상태에 있으면 대상에 항등 $ I $ 게이트를 적용합니다, 즉, 어떠한 연산도 하지 않습니다. 반면에 제어 큐빗이 $ | 1 \\rangle $ 상태에 있으면 대상 큐빗에서 X-게이트가 수행됩니다. 따라서 두 큐빗의 상태가 모두 고전 상태인 $ | 0 \\rangle $ 또는 $ | 1 \\rangle $ 둘 중 하나로만 있으면 (역주: 두 큐빗이 각각 중첩 상태가 아니라면) CNOT 게이트는 고전 작업으로 제한됩니다.\n",
    "\n",
    "이 상황은 하다마드 게이트를 먼저 제어 큐빗에 적용하여 중첩 상태 $ | + \\rangle $를 만들면 크게 바뀝니다. 이 비고전적 입력상태에 대한 CNOT 게이트의 동작은 제어 및 대상 큐빗간에 얽힌 (Entangled) 상태를 생성 할 수 있습니다. 대상 큐빗이 처음에 $ | 0 \\rangle $ 상태 인 경우 결과 상태는 $ | \\Phi^+ \\rangle $로 표시되며 소위 Bell 상태 중 하나입니다.\n",
    "\n",
    "### II.i) Bell 상태 $|\\Phi^+\\rangle = \\frac{1}{\\sqrt{2}}\\left(|00\\rangle + |11\\rangle\\right)$를 구성하십시오. <img src = \"phi+.png\" width = \"300\">\n",
    "이 상태에서 \"00\"을 측정 할 확률은 $ \\frac{1}{2} $이고 \"11\"을 측정 할 확률은 $ \\frac{1}{2} $입니다. 따라서 두 큐빗의 측정 결과는 완벽한 양의 상관관계에 있습니다."
   ]
  },
  {
   "cell_type": "code",
   "execution_count": null,
   "metadata": {},
   "outputs": [],
   "source": [
    "# Cell 8\n",
    "def create_circuit():\n",
    "    qc = QuantumCircuit(2)\n",
    "    #\n",
    "    #\n",
    "    # FILL YOUR CODE IN HERE\n",
    "    #\n",
    "    #\n",
    "    return qc\n",
    "\n",
    "qc = create_circuit()\n",
    "state = statevec(qc) # 회로를 실행한 뒤의 최종 상태를 확인합니다.\n",
    "display(Math(vec_in_braket(state.data)))\n",
    "check5(state)\n",
    "qc.draw(output='mpl') # 회로를 그립니다."
   ]
  },
  {
   "cell_type": "markdown",
   "metadata": {},
   "source": [
    "다음으로, 완벽한 음의 상관관계를 갖는 큐빗 상태를 만들어보십시오. 여기에서 빼기 부호를 주목하십시오. 이것은 두 상태 사이의 상대적인 위상을 나타냅니다.\n",
    "### II.ii) Bell 상태 $\\vert\\Psi^-\\rangle = \\frac{1}{\\sqrt{2}}\\left(\\vert01\\rangle - \\vert10\\rangle\\right)$를 구성하십시오. <img src = \"psi-.png\" width = \"300\">"
   ]
  },
  {
   "cell_type": "code",
   "execution_count": null,
   "metadata": {},
   "outputs": [],
   "source": [
    "# Cell 9\n",
    "def create_circuit6():\n",
    "    qc = QuantumCircuit(2,2) # 이번에는 단지 2개의 큐빗 뿐만 아니라\n",
    "                             # 이후 측정을 위해 2개의 고전 비트도 필요합니다.\n",
    "    #\n",
    "    #\n",
    "    # FILL YOUR CODE IN HERE\n",
    "    #\n",
    "    #\n",
    "    return qc\n",
    "\n",
    "qc = create_circuit6()\n",
    "state = statevec(qc) # 회로를 실행한 뒤의 최종 상태를 확인합니다.\n",
    "display(Math(vec_in_braket(state.data)))\n",
    "check6(state)\n",
    "qc.measure(0, 0) # q_0 큐빗의 상태를 측정해서 c_0에 저장합니다.\n",
    "qc.measure(1, 1) # q_1 큐빗의 상태를 측정해서 c_1에 저장합니다.\n",
    "qc.draw(output='mpl') # 회로를 그립니다"
   ]
  },
  {
   "cell_type": "markdown",
   "metadata": {},
   "source": [
    "회로(및 코드)에서 알 수 있듯이 측정 연산자를 회로에 추가했습니다. 측정 결과를 저장하려면 양자 회로를 만들 때 추가한 두 개의 고전 비트도 필요합니다. `qc = QuantumCircuit(num_qubits, num_classicalbits)`\n",
    "\n",
    "*Cell 10*에서 시뮬레이터에서 회로를 실행하는`run_circuit()`함수를 정의했습니다. 올바른 상태가 준비되면 \"01\"과 \"10\"의 두 결과 각각을 측정 할 가능성이 $\\frac{1}{2}$입니다. 그러나 1000 회 촬영으로 측정을 수행한다고해서 정확히 \"01\"의 500 배와 \"10\"의 500 배를 측정한다는 의미는 아닙니다. 동전을 여러 번 뒤집는 것처럼 두 개의 가능한 출력 값 사이에서 정확히 50/50 분할을 얻을 가능성은 거의 없습니다. 대신 이 이상적인 분포 위에 무작위적 변동이 있습니다. 'run_circuit'를 여러 번 호출하여 출력의 분산을 확인할 수 있습니다."
   ]
  },
  {
   "cell_type": "code",
   "execution_count": null,
   "metadata": {},
   "outputs": [],
   "source": [
    "# Cell 10\n",
    "def run_circuit(qc):\n",
    "    backend = Aer.get_backend('qasm_simulator') # 백엔드의 시뮬레이터를 선택합니다.\n",
    "    result = execute(qc, backend, shots = 1000).result() # 시뮬레이션을 수행합니다.\n",
    "    counts = result.get_counts() # we get the counts\n",
    "    return counts\n",
    "\n",
    "counts = run_circuit(qc)\n",
    "print(counts)\n",
    "plot_histogram(counts) # 가능한 결과와 각 확률을 확인하기 위해 히스토그램을 그려봅시다."
   ]
  },
  {
   "cell_type": "markdown",
   "metadata": {},
   "source": [
    "### II.iii) 아래 함수로 서술된 양자회로가 있습니다. 첫번째 큐빗과 두번째 큐빗의 상태를 바꿔보세요.\n",
    "당신의 최종 상태는 다음과 같아야 합니다.: <img src=\"stateIIiii.png\" width=\"300\"> "
   ]
  },
  {
   "cell_type": "code",
   "execution_count": null,
   "metadata": {},
   "outputs": [],
   "source": [
    "# Cell 11\n",
    "def create_circuit7():\n",
    "    qc = QuantumCircuit(2)\n",
    "    qc.rx(np.pi/3,0)\n",
    "    qc.x(1)\n",
    "    return qc\n",
    "\n",
    "qc = create_circuit7()\n",
    "#\n",
    "#\n",
    "# FILL YOUR CODE IN HERE\n",
    "#\n",
    "#\n",
    "state = statevec(qc) # 회로를 실행한 뒤의 최종 상태를 확인합니다.\n",
    "display(Math(vec_in_braket(state.data)))\n",
    "check7(state)\n",
    "plot_state_qsphere(state.data, show_state_labels=True, show_state_angles=True) "
   ]
  },
  {
   "cell_type": "markdown",
   "metadata": {},
   "source": [
    "### II.iv) 백지에서부터 3 큐빗에 대한 GHZ 상태 $\\vert \\text{GHZ}\\rangle = \\frac{1}{\\sqrt{2}} \\left(|000\\rangle + |111 \\rangle \\right)$를 생성하고, 2000번 측정을 수행하여, 측정 결과횟수를 반환하는 코드를 써보세요. <img src = \"ghz.png\" width = \"300\">\n",
    "\n",
    "상태변화를 추적하려면 위에서와 같이 3 개의 큐빗에 대한 회로 위젯을 사용할 수 있습니다. `minicomposer(3, dirac=True, qsphere=True)` 측정 결과횟수를 얻는 방법은 *Cell 9* 및 *Cell 10*의 코드를 참고하십시오."
   ]
  },
  {
   "cell_type": "code",
   "execution_count": null,
   "metadata": {},
   "outputs": [],
   "source": [
    "# Cell 12\n",
    "#\n",
    "#\n",
    "# FILL YOUR CODE IN HERE\n",
    "#\n",
    "#\n",
    "print(counts)\n",
    "check8(counts)\n",
    "plot_histogram(counts)"
   ]
  },
  {
   "cell_type": "markdown",
   "metadata": {},
   "source": [
    "Qiskit에 대한 입문을 마치신 것을 축하합니다! 8점에 도달하면 해답 문자열이 표시됩니다. 연습을 완료하고 진행 상황을 추적하려면 IBM Quantum Challenge 페이지에서 해당 문자열을 복사하여 붙여 넣어야합니다.\n",
    "\n",
    "이제 첫 번째 양자 회로를 생성하고 실행 했으므로 다음 연습을 진행할 준비가되었습니다. 다음 연습에서는 실제 하드웨어를 사용하고 출력에서 노이즈를 줄이는 방법을 배웁니다."
   ]
  }
 ],
 "metadata": {
  "kernelspec": {
   "display_name": "Python 3",
   "language": "python",
   "name": "python3"
  },
  "language_info": {
   "codemirror_mode": {
    "name": "ipython",
    "version": 3
   },
   "file_extension": ".py",
   "mimetype": "text/x-python",
   "name": "python",
   "nbconvert_exporter": "python",
   "pygments_lexer": "ipython3",
   "version": "3.7.3"
  }
 },
 "nbformat": 4,
 "nbformat_minor": 2
}
